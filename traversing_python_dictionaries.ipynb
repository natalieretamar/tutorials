{
 "cells": [
  {
   "cell_type": "markdown",
   "metadata": {},
   "source": [
    "## Traversing Python Dictionaries "
   ]
  },
  {
   "cell_type": "markdown",
   "metadata": {},
   "source": [
    "Think of a list.  \n",
    "Visualize a column of one long list, like a grocery list.\n",
    "\n",
    "    Grocery list:  \n",
    "+ grapes\n",
    "- tv dinners\n",
    "- bread\n",
    "- soda\n",
    "\n",
    "This list is too vague. What **kind of grapes**? Which **brand of soda**?  \n",
    "We need to be more specific. Let's add some details.\n",
    "\n"
   ]
  },
  {
   "cell_type": "markdown",
   "metadata": {},
   "source": [
    "    Grocery list:\n",
    "+ protein: chicken\n",
    "+ bread: wheat, hotdog buns\n",
    "+ grapes: green, red\n",
    "+ soda: pepsi\n",
    "\n",
    "**This list just became a DICTIONARY!**\n",
    "\n",
    "Dictionaries have keys and values. Keys and Values can be single items or a list of items.  \n",
    "For this tutorial we will be working with single item keys and multiple values.\n",
    "\n",
    "\n",
    "Picture how our grocery list might look in a table:\n",
    "\n"
   ]
  },
  {
   "cell_type": "markdown",
   "metadata": {},
   "source": [
    "|Dictionary name: grocery_list|\n",
    "|--------------------------------|\n",
    "|Row Number|Key (Index **0**)|Value (Index **1**)|Value (Index **2**)|\n",
    "|Row **0**|protein:|chicken|\n",
    "|Row **1**|bread:|wheat|hotdog buns|\n",
    "|Row **2**|grapes:|green|red|\n",
    "|Row **3**|soda:|pepsi|\n",
    "\n"
   ]
  },
  {
   "cell_type": "markdown",
   "metadata": {},
   "source": [
    "** Question:  \n",
    "What is the position for the value of 'hotdog buns'?**  \n",
    "** Answer:** \n",
    "Row **2**, Key = **'bread'**, Value =  Index **1**\n",
    "\n",
    "The Python syntax to access values in a dictionary is:  \n",
    "\n",
    ">dictionary_name[key]=value\n",
    "\n",
    "Important to note that keys and values have positions that are referred to as INDEX locations. The first location is always '0'(zero), not 1. \n",
    "\n",
    "** Question: Write the python code to access 'hotdog buns' under the key 'bread'. **   \n",
    "** Answer:**\n",
    "\n",
    ">grocery_list[bread]=value[1]\n",
    "\n"
   ]
  },
  {
   "cell_type": "markdown",
   "metadata": {},
   "source": [
    "**Let's jump right on in and start traversing dictionaries!**"
   ]
  },
  {
   "cell_type": "markdown",
   "metadata": {
    "collapsed": true
   },
   "source": [
    "**Declare a simple dictionary:**"
   ]
  },
  {
   "cell_type": "code",
   "execution_count": 32,
   "metadata": {
    "collapsed": true
   },
   "outputs": [],
   "source": [
    "grocery_list={}"
   ]
  },
  {
   "cell_type": "markdown",
   "metadata": {},
   "source": [
    "**Let's add some items to our list...**"
   ]
  },
  {
   "cell_type": "code",
   "execution_count": 33,
   "metadata": {
    "collapsed": true
   },
   "outputs": [],
   "source": [
    "grocery_list['soda']='pepsi'  \n",
    "grocery_list['protein']='chicken'"
   ]
  },
  {
   "cell_type": "markdown",
   "metadata": {},
   "source": [
    "**Let's take a look at our list...** "
   ]
  },
  {
   "cell_type": "code",
   "execution_count": 34,
   "metadata": {
    "collapsed": false
   },
   "outputs": [
    {
     "data": {
      "text/plain": [
       "{'protein': 'chicken', 'soda': 'pepsi'}"
      ]
     },
     "execution_count": 34,
     "metadata": {},
     "output_type": "execute_result"
    }
   ],
   "source": [
    "grocery_list  "
   ]
  },
  {
   "cell_type": "markdown",
   "metadata": {},
   "source": [
    "** Create keys with multiple values...a LIST of values**"
   ]
  },
  {
   "cell_type": "code",
   "execution_count": 35,
   "metadata": {
    "collapsed": false
   },
   "outputs": [],
   "source": [
    "grocery_list['bread']=['wheat', 'hotdog_buns']\n",
    "grocery_list['grapes']=['green', 'red']"
   ]
  },
  {
   "cell_type": "code",
   "execution_count": 36,
   "metadata": {
    "collapsed": false
   },
   "outputs": [
    {
     "data": {
      "text/plain": [
       "{'bread': ['wheat', 'hotdog_buns'],\n",
       " 'grapes': ['green', 'red'],\n",
       " 'protein': 'chicken',\n",
       " 'soda': 'pepsi'}"
      ]
     },
     "execution_count": 36,
     "metadata": {},
     "output_type": "execute_result"
    }
   ],
   "source": [
    "grocery_list"
   ]
  },
  {
   "cell_type": "markdown",
   "metadata": {},
   "source": [
    "** Question:  \n",
    "How do we use a FOR LOOP to go through the dictionary and find out what keys it has?**"
   ]
  },
  {
   "cell_type": "code",
   "execution_count": 37,
   "metadata": {
    "collapsed": false
   },
   "outputs": [
    {
     "name": "stdout",
     "output_type": "stream",
     "text": [
      "protein\n",
      "bread\n",
      "grapes\n",
      "soda\n"
     ]
    }
   ],
   "source": [
    "for key in grocery_list:\n",
    "    print key"
   ]
  },
  {
   "cell_type": "markdown",
   "metadata": {},
   "source": [
    "Note: 'key' in the for loop above is a variable name, you can assign any name you like. This variable will hold the dictionary's key information each time it iterates through the loop."
   ]
  },
  {
   "cell_type": "markdown",
   "metadata": {},
   "source": [
    "**Question:  \n",
    "How do you get the values in a dictionary?**"
   ]
  },
  {
   "cell_type": "code",
   "execution_count": 38,
   "metadata": {
    "collapsed": false
   },
   "outputs": [
    {
     "name": "stdout",
     "output_type": "stream",
     "text": [
      "p\n",
      "b\n",
      "g\n",
      "s\n"
     ]
    }
   ],
   "source": [
    "for key in grocery_list:\n",
    "    print key[0]"
   ]
  },
  {
   "cell_type": "markdown",
   "metadata": {},
   "source": [
    "### NOPE!\n",
    "\n",
    "The key variable is ONLY storing the full key name.  \n",
    "key[0] indicates that we want to pull the first index element in the variable. In this case, the first letter of the key.\n",
    "\n",
    "**Try this:**"
   ]
  },
  {
   "cell_type": "code",
   "execution_count": 39,
   "metadata": {
    "collapsed": false
   },
   "outputs": [
    {
     "name": "stdout",
     "output_type": "stream",
     "text": [
      "chicken\n",
      "['wheat', 'hotdog_buns']\n",
      "['green', 'red']\n",
      "pepsi\n"
     ]
    }
   ],
   "source": [
    "for key in grocery_list:\n",
    "    print grocery_list[key]"
   ]
  },
  {
   "cell_type": "markdown",
   "metadata": {},
   "source": [
    "### Voila! It prints out all the values but they are not in order!\n",
    "\n",
    "'grocery_list[key]' indicates that we want the VALUE that is paired with the key name in the dictionary.\n",
    "\n",
    "Each time the loop iterates through each key in the dictionary, it stores the new key name. "
   ]
  },
  {
   "cell_type": "markdown",
   "metadata": {},
   "source": [
    "** Question:  \n",
    "What if you needed to work with a specific value in a list of values?**\n",
    "\n",
    "Notice that the key 'grapes' is holding a LIST of values: green and red.\n",
    "\n",
    "How can we grab the first value in a list of values? \n",
    "\n",
    "(Remember - the first index in any element begins with '0'(zero) not 1(one))\n"
   ]
  },
  {
   "cell_type": "code",
   "execution_count": 40,
   "metadata": {
    "collapsed": false
   },
   "outputs": [
    {
     "name": "stdout",
     "output_type": "stream",
     "text": [
      "c\n",
      "wheat\n",
      "green\n",
      "p\n"
     ]
    }
   ],
   "source": [
    "for key in grocery_list:\n",
    "    print grocery_list[key][0]"
   ]
  },
  {
   "cell_type": "markdown",
   "metadata": {},
   "source": [
    "**WAIT A MINUTE!  \n",
    "Why is there a 'c' and a 'p' displayed instead of 'chicken' or 'pepsi'?  \n",
    "Some keys have only ONE VALUE so 'index 0' will return the first letter if there is only one value for key.**\n",
    "\n",
    "**Let's make sure this is clear...**  \n",
    "\n",
    ">grocery_list[key][0] \n",
    "\n",
    "This code simply states:\n",
    "\n",
    "**grocery_list[key]**-find the value associated with the current key in books.    \n",
    "**grocery_list[key][0]**-now go to the value that is in located at index position 0 (first one).\n",
    "\n"
   ]
  },
  {
   "cell_type": "markdown",
   "metadata": {},
   "source": [
    "**Question: Is there another way to get key/values?  \n",
    "YES!**\n",
    "\n",
    ">**.items()**  \n",
    "\n",
    "**.items()** is a method that returns a list of dict's (key, value) tuple pairs.  \n",
    "\n",
    "The python syntax is: \n",
    ">**dictionary_name.items()**"
   ]
  },
  {
   "cell_type": "markdown",
   "metadata": {},
   "source": [
    "** Let's use .items on our grocery_list dictionary!**"
   ]
  },
  {
   "cell_type": "code",
   "execution_count": 41,
   "metadata": {
    "collapsed": false
   },
   "outputs": [
    {
     "data": {
      "text/plain": [
       "[('protein', 'chicken'),\n",
       " ('bread', ['wheat', 'hotdog_buns']),\n",
       " ('grapes', ['green', 'red']),\n",
       " ('soda', 'pepsi')]"
      ]
     },
     "execution_count": 41,
     "metadata": {},
     "output_type": "execute_result"
    }
   ],
   "source": [
    "grocery_list.items()"
   ]
  },
  {
   "cell_type": "markdown",
   "metadata": {},
   "source": [
    "Notice that it prints out a key/value tuple. "
   ]
  },
  {
   "cell_type": "markdown",
   "metadata": {},
   "source": [
    "**Question:  \n",
    "What if you wanted the key/value pair for key at index 0? (First key/val pair in dictionary)**\n",
    "\n",
    "Bracket notation ( [number] ) can be used to access the row index locations. "
   ]
  },
  {
   "cell_type": "code",
   "execution_count": 42,
   "metadata": {
    "collapsed": false
   },
   "outputs": [
    {
     "data": {
      "text/plain": [
       "('protein', 'chicken')"
      ]
     },
     "execution_count": 42,
     "metadata": {},
     "output_type": "execute_result"
    }
   ],
   "source": [
    "grocery_list.items()[0]"
   ]
  },
  {
   "cell_type": "markdown",
   "metadata": {},
   "source": [
    "**grocery_list.items()[0]** retrieves the **KEY** and **VALUE** at row position 0  "
   ]
  },
  {
   "cell_type": "markdown",
   "metadata": {},
   "source": [
    "**Question:  \n",
    "What if you wanted to retrieve ONLY the value for that key?**\n",
    "\n",
    "In other words, go to the key at index[0] (first item in the dictionary) AND then go to its value pair index[1]"
   ]
  },
  {
   "cell_type": "code",
   "execution_count": 43,
   "metadata": {
    "collapsed": false
   },
   "outputs": [
    {
     "data": {
      "text/plain": [
       "'chicken'"
      ]
     },
     "execution_count": 43,
     "metadata": {},
     "output_type": "execute_result"
    }
   ],
   "source": [
    "grocery_list.items()[0][1]"
   ]
  },
  {
   "cell_type": "markdown",
   "metadata": {},
   "source": [
    "**Question:  \n",
    "What if you wanted to know what is in index[0] in this value?**"
   ]
  },
  {
   "cell_type": "code",
   "execution_count": 44,
   "metadata": {
    "collapsed": false
   },
   "outputs": [
    {
     "data": {
      "text/plain": [
       "'c'"
      ]
     },
     "execution_count": 44,
     "metadata": {},
     "output_type": "execute_result"
    }
   ],
   "source": [
    "grocery_list.items()[0][1][0]"
   ]
  },
  {
   "cell_type": "markdown",
   "metadata": {},
   "source": [
    "**Question:  \n",
    "What if we did this:**"
   ]
  },
  {
   "cell_type": "code",
   "execution_count": 45,
   "metadata": {
    "collapsed": false
   },
   "outputs": [
    {
     "ename": "IndexError",
     "evalue": "string index out of range",
     "output_type": "error",
     "traceback": [
      "\u001b[0;31m---------------------------------------------------------------------------\u001b[0m",
      "\u001b[0;31mIndexError\u001b[0m                                Traceback (most recent call last)",
      "\u001b[0;32m<ipython-input-45-91a4ede049b9>\u001b[0m in \u001b[0;36m<module>\u001b[0;34m()\u001b[0m\n\u001b[0;32m----> 1\u001b[0;31m \u001b[0mgrocery_list\u001b[0m\u001b[0;34m.\u001b[0m\u001b[0mitems\u001b[0m\u001b[0;34m(\u001b[0m\u001b[0;34m)\u001b[0m\u001b[0;34m[\u001b[0m\u001b[0;36m0\u001b[0m\u001b[0;34m]\u001b[0m\u001b[0;34m[\u001b[0m\u001b[0;36m1\u001b[0m\u001b[0;34m]\u001b[0m\u001b[0;34m[\u001b[0m\u001b[0;36m0\u001b[0m\u001b[0;34m]\u001b[0m\u001b[0;34m[\u001b[0m\u001b[0;36m1\u001b[0m\u001b[0;34m]\u001b[0m\u001b[0;34m\u001b[0m\u001b[0m\n\u001b[0m",
      "\u001b[0;31mIndexError\u001b[0m: string index out of range"
     ]
    }
   ],
   "source": [
    "grocery_list.items()[0][1][0][1]"
   ]
  },
  {
   "cell_type": "markdown",
   "metadata": {},
   "source": [
    "** An ERROR occurs!** \n",
    "\n",
    "Examine the below info in order to understand why a range error happened...\n",
    "\n",
    "Look at the table to visually trace the code.\n",
    "\n"
   ]
  },
  {
   "cell_type": "markdown",
   "metadata": {},
   "source": [
    "|Dictionary name: grocery_list|\n",
    "|--------------------------------|\n",
    "|Row Number|Key (Index **0**)|Value (Index **1**)|Value (Index **2**)|\n",
    "|Row **0**|protein:|chicken|\n",
    "|Row **1**|bread:|wheat|hotdog buns|\n",
    "|Row **2**|grapes:|green|red|\n",
    "|Row **3**|soda:|pepsi|\n",
    "\n"
   ]
  },
  {
   "cell_type": "code",
   "execution_count": 54,
   "metadata": {
    "collapsed": false
   },
   "outputs": [
    {
     "data": {
      "text/plain": [
       "'c'"
      ]
     },
     "execution_count": 54,
     "metadata": {},
     "output_type": "execute_result"
    }
   ],
   "source": [
    "grocery_list.items()[0][1][0]"
   ]
  },
  {
   "cell_type": "markdown",
   "metadata": {},
   "source": [
    "**grocery_list.items()[0]** = **protein, chicken**   \n",
    "**grocery_list.items()[0][1]** =  ** chicken**   \n",
    "**grocery_list.items()[0][1][0]** =  ** c**  \n",
    "**grocery_list.items()[0][1][0][1]** = **ERROR** because there is only ONE value for the key 'protein'. This is why there is a **Range Error**.\n",
    "\n"
   ]
  },
  {
   "cell_type": "markdown",
   "metadata": {},
   "source": [
    "Lets examine a key that has more than 1 value.  \n",
    "The keys 'bread' and 'soda' have multiple values. "
   ]
  },
  {
   "cell_type": "markdown",
   "metadata": {},
   "source": [
    "**example:** Get values for 'grapes'"
   ]
  },
  {
   "cell_type": "markdown",
   "metadata": {},
   "source": [
    "Lets pull up the values associated for the key **'grapes'**"
   ]
  },
  {
   "cell_type": "code",
   "execution_count": 56,
   "metadata": {
    "collapsed": false
   },
   "outputs": [
    {
     "data": {
      "text/plain": [
       "['green', 'red']"
      ]
     },
     "execution_count": 56,
     "metadata": {},
     "output_type": "execute_result"
    }
   ],
   "source": [
    "grocery_list.items()[2][1]"
   ]
  },
  {
   "cell_type": "code",
   "execution_count": 60,
   "metadata": {
    "collapsed": false
   },
   "outputs": [
    {
     "data": {
      "text/plain": [
       "'green'"
      ]
     },
     "execution_count": 60,
     "metadata": {},
     "output_type": "execute_result"
    }
   ],
   "source": [
    "grocery_list.items()[2][1][0]"
   ]
  },
  {
   "cell_type": "code",
   "execution_count": 61,
   "metadata": {
    "collapsed": false
   },
   "outputs": [
    {
     "data": {
      "text/plain": [
       "'red'"
      ]
     },
     "execution_count": 61,
     "metadata": {},
     "output_type": "execute_result"
    }
   ],
   "source": [
    "grocery_list.items()[2][1][1]"
   ]
  },
  {
   "cell_type": "markdown",
   "metadata": {},
   "source": [
    "Let us examine the code above:"
   ]
  },
  {
   "cell_type": "markdown",
   "metadata": {},
   "source": [
    "### Now that you understand how indexes point to values...**lets try new methods:**  \n",
    " \n",
    ">**.keys()**  \n",
    ">**.values()**  \n",
    ">**.iteritems()**"
   ]
  },
  {
   "cell_type": "code",
   "execution_count": 231,
   "metadata": {
    "collapsed": false
   },
   "outputs": [
    {
     "data": {
      "text/plain": [
       "['protein', 'bread', 'grapes', 'soda']"
      ]
     },
     "execution_count": 231,
     "metadata": {},
     "output_type": "execute_result"
    }
   ],
   "source": [
    "grocery_list.keys()"
   ]
  },
  {
   "cell_type": "markdown",
   "metadata": {},
   "source": [
    "**.keys** is a quick way to access the KEYS without using a **FOR LOOP**!"
   ]
  },
  {
   "cell_type": "markdown",
   "metadata": {},
   "source": [
    "Use **bracket notation** to specify index # to get needed key by location."
   ]
  },
  {
   "cell_type": "code",
   "execution_count": 67,
   "metadata": {
    "collapsed": false
   },
   "outputs": [
    {
     "data": {
      "text/plain": [
       "'protein'"
      ]
     },
     "execution_count": 67,
     "metadata": {},
     "output_type": "execute_result"
    }
   ],
   "source": [
    "grocery_list.keys()[0]"
   ]
  },
  {
   "cell_type": "code",
   "execution_count": 68,
   "metadata": {
    "collapsed": false
   },
   "outputs": [
    {
     "data": {
      "text/plain": [
       "'grapes'"
      ]
     },
     "execution_count": 68,
     "metadata": {},
     "output_type": "execute_result"
    }
   ],
   "source": [
    "grocery_list.keys()[2]"
   ]
  },
  {
   "cell_type": "markdown",
   "metadata": {},
   "source": [
    "**.values()** is a quick way to access the values!"
   ]
  },
  {
   "cell_type": "code",
   "execution_count": 69,
   "metadata": {
    "collapsed": false
   },
   "outputs": [
    {
     "data": {
      "text/plain": [
       "['chicken', ['wheat', 'hotdog_buns'], ['green', 'red'], 'pepsi']"
      ]
     },
     "execution_count": 69,
     "metadata": {},
     "output_type": "execute_result"
    }
   ],
   "source": [
    "grocery_list.values()"
   ]
  },
  {
   "cell_type": "markdown",
   "metadata": {},
   "source": [
    "Use **bracket notation** to specify index # to get needed value by location."
   ]
  },
  {
   "cell_type": "code",
   "execution_count": 74,
   "metadata": {
    "collapsed": false
   },
   "outputs": [
    {
     "data": {
      "text/plain": [
       "['wheat', 'hotdog_buns']"
      ]
     },
     "execution_count": 74,
     "metadata": {},
     "output_type": "execute_result"
    }
   ],
   "source": [
    "grocery_list.values()[1]"
   ]
  },
  {
   "cell_type": "code",
   "execution_count": 75,
   "metadata": {
    "collapsed": false
   },
   "outputs": [
    {
     "data": {
      "text/plain": [
       "'wheat'"
      ]
     },
     "execution_count": 75,
     "metadata": {},
     "output_type": "execute_result"
    }
   ],
   "source": [
    "grocery_list.values()[1][0]"
   ]
  },
  {
   "cell_type": "code",
   "execution_count": 77,
   "metadata": {
    "collapsed": false
   },
   "outputs": [
    {
     "data": {
      "text/plain": [
       "'hotdog_buns'"
      ]
     },
     "execution_count": 77,
     "metadata": {},
     "output_type": "execute_result"
    }
   ],
   "source": [
    "grocery_list.values()[1][1]"
   ]
  },
  {
   "cell_type": "markdown",
   "metadata": {},
   "source": [
    "Try using **.iteritems()** in a **for loop**!   \n",
    "Each time the loop iterates, it stores the current row's key (index 0) and value (index 1).  \n",
    "Variables **'k' & 'v' ** store the key and value."
   ]
  },
  {
   "cell_type": "code",
   "execution_count": 239,
   "metadata": {
    "collapsed": false
   },
   "outputs": [
    {
     "name": "stdout",
     "output_type": "stream",
     "text": [
      "This is key: protein\n",
      "This is value: chicken\n",
      "This is key: bread\n",
      "This is value: ['wheat', 'hotdog_buns']\n",
      "This is key: grapes\n",
      "This is value: ['green', 'red']\n",
      "This is key: soda\n",
      "This is value: pepsi\n"
     ]
    }
   ],
   "source": [
    "for k,v in grocery_list.iteritems():\n",
    "    print 'This is key: {}'.format(k)\n",
    "    print 'This is value: {}'.format(v)"
   ]
  },
  {
   "cell_type": "markdown",
   "metadata": {
    "collapsed": true
   },
   "source": [
    "**Traversing python dictionaries can be confusing but create your own dictionaries and practice pulling out the keys or values. **  \n",
    "\n",
    "## Happy Coding!"
   ]
  },
  {
   "cell_type": "code",
   "execution_count": null,
   "metadata": {
    "collapsed": true
   },
   "outputs": [],
   "source": []
  }
 ],
 "metadata": {
  "kernelspec": {
   "display_name": "Python 2",
   "language": "python",
   "name": "python2"
  },
  "language_info": {
   "codemirror_mode": {
    "name": "ipython",
    "version": 2
   },
   "file_extension": ".py",
   "mimetype": "text/x-python",
   "name": "python",
   "nbconvert_exporter": "python",
   "pygments_lexer": "ipython2",
   "version": "2.7.11"
  }
 },
 "nbformat": 4,
 "nbformat_minor": 0
}
